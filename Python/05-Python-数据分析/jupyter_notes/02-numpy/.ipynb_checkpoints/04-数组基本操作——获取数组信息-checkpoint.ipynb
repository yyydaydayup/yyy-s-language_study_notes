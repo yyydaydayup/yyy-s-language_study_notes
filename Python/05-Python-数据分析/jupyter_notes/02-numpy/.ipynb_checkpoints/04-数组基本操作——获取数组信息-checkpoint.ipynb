{
 "cells": [
  {
   "cell_type": "code",
   "execution_count": 1,
   "metadata": {},
   "outputs": [],
   "source": [
    "# 导入相关模块\n",
    "import numpy as np"
   ]
  },
  {
   "cell_type": "markdown",
   "metadata": {},
   "source": [
    "# 获取数组信息"
   ]
  },
  {
   "cell_type": "markdown",
   "metadata": {},
   "source": [
    "## 01.获取维度信息——`.ndim`"
   ]
  },
  {
   "cell_type": "code",
   "execution_count": 2,
   "metadata": {},
   "outputs": [
    {
     "name": "stdout",
     "output_type": "stream",
     "text": [
      "1\n",
      "2\n",
      "3\n"
     ]
    }
   ],
   "source": [
    "a1 = np.array([1, 2, 3])\n",
    "print(a1.ndim)\n",
    "\n",
    "a2 = np.array([[1, 2, 3], [4, 5, 6]])\n",
    "print(a2.ndim)\n",
    "\n",
    "a3 = np.array([  # 三维数组其实就很复杂了，如果出现三维，则一般转换成一维或二维再处理！\n",
    "    [\n",
    "        [1, 2, 3],\n",
    "        [4, 5, 6]\n",
    "    ],\n",
    "    [\n",
    "        [7, 8, 9],\n",
    "        [10, 11, 12]\n",
    "    ]\n",
    "])\n",
    "print(a3.ndim)"
   ]
  },
  {
   "cell_type": "markdown",
   "metadata": {},
   "source": [
    "## 02.获取形状信息——`.shape`"
   ]
  },
  {
   "cell_type": "code",
   "execution_count": 3,
   "metadata": {},
   "outputs": [
    {
     "name": "stdout",
     "output_type": "stream",
     "text": [
      "(3,)\n",
      "(2, 3)\n",
      "(2, 2, 3)\n"
     ]
    }
   ],
   "source": [
    "print(a1.shape)\n",
    "print(a2.shape)\n",
    "print(a3.shape)"
   ]
  },
  {
   "cell_type": "markdown",
   "metadata": {},
   "source": [
    "观察上述结果可知：**shape元组有几个元素，就代表有几维。**"
   ]
  },
  {
   "cell_type": "markdown",
   "metadata": {},
   "source": [
    "## 03.修改形状——.`reshape`"
   ]
  },
  {
   "cell_type": "code",
   "execution_count": 4,
   "metadata": {},
   "outputs": [
    {
     "name": "stdout",
     "output_type": "stream",
     "text": [
      "[[ 1  2  3  4  5  6]\n",
      " [ 7  8  9 10 11 12]]\n",
      "(2, 6)\n"
     ]
    }
   ],
   "source": [
    "a4 = a3.reshape((2, 6))\n",
    "print(a4)\n",
    "print(a4.shape)"
   ]
  },
  {
   "cell_type": "code",
   "execution_count": 5,
   "metadata": {},
   "outputs": [
    {
     "name": "stdout",
     "output_type": "stream",
     "text": [
      "==============a5===============\n",
      "[[ 1  2  3  4  5  6  7  8  9 10 11 12]]\n",
      "(1, 12)\n",
      "2\n",
      "==============a6===============\n",
      "[ 1  2  3  4  5  6  7  8  9 10 11 12]\n",
      "(12,)\n",
      "1\n",
      "==============a7================\n",
      "[ 1  2  3  4  5  6  7  8  9 10 11 12]\n",
      "(12,)\n",
      "1\n"
     ]
    }
   ],
   "source": [
    "print(\"==============a5===============\")\n",
    "a5 = a3.reshape((1, 12))\n",
    "print(a5)\n",
    "print(a5.shape)\n",
    "print(a5.ndim)\n",
    "\n",
    "print(\"==============a6===============\")\n",
    "a6 = a3.reshape((12,))\n",
    "print(a6)\n",
    "print(a6.shape)\n",
    "print(a6.ndim)\n",
    "\n",
    "print(\"==============a7================\")\n",
    "a7 = a3.flatten()\n",
    "print(a7)\n",
    "print(a7.shape)\n",
    "print(a7.ndim)"
   ]
  },
  {
   "cell_type": "markdown",
   "metadata": {},
   "source": [
    "* 比较a5和a6，再次强调之前的那句话：**shape元组有几个元素，就代表有几维**。\n",
    "* `flatten()`意为**扁平化**，不管你有几维，我都给你压成一维。此时也不用关心有多少个元素，简单快捷！"
   ]
  },
  {
   "cell_type": "markdown",
   "metadata": {},
   "source": [
    "## 04.获取元素个数——`.size`"
   ]
  },
  {
   "cell_type": "code",
   "execution_count": 6,
   "metadata": {},
   "outputs": [
    {
     "name": "stdout",
     "output_type": "stream",
     "text": [
      "3\n",
      "6\n",
      "12\n"
     ]
    }
   ],
   "source": [
    "print(a1.size)\n",
    "print(a2.size)\n",
    "print(a3.size)"
   ]
  },
  {
   "cell_type": "markdown",
   "metadata": {},
   "source": [
    "## 05.获取单个元素的大小——`.itemsize`"
   ]
  },
  {
   "cell_type": "code",
   "execution_count": 7,
   "metadata": {},
   "outputs": [
    {
     "name": "stdout",
     "output_type": "stream",
     "text": [
      "4字节\n",
      "4字节\n",
      "4字节\n"
     ]
    }
   ],
   "source": [
    "print(\"%s字节\" % a1.itemsize)\n",
    "print(\"%s字节\" % a2.itemsize)\n",
    "print(\"%s字节\" % a3.itemsize)"
   ]
  },
  {
   "cell_type": "markdown",
   "metadata": {},
   "source": [
    "通过size和itemsize属性便可求得一个数组所占空间的大小了（以字节为单位），只需将二者相乘便可。"
   ]
  },
  {
   "cell_type": "markdown",
   "metadata": {},
   "source": [
    "# 总结\n",
    "1. 数组到3维就很复杂了，不方便计算了，此时一般降维后再处理\n",
    "2. 通过`ndarray.ndim`可以看到数组的维度\n",
    "3. 通过`ndarray.shape`可以看到数组的形状（几行几列），**shape是一个元组，里面有几个元素，数组就是几维的**\n",
    "4. 通过`ndarray.reshape()`可以修改数组的形状，条件只有一个：修改前后数组元素个数要一致，否则会报错\n",
    "5. 通过`ndarray.size`可以查看数组一共有多少个元素。\n",
    "6. 通过`ndarray.itemsize`可以看到数组中每个元素所占空间大小（以字节为单位）"
   ]
  }
 ],
 "metadata": {
  "kernelspec": {
   "display_name": "Python 3",
   "language": "python",
   "name": "python3"
  },
  "language_info": {
   "codemirror_mode": {
    "name": "ipython",
    "version": 3
   },
   "file_extension": ".py",
   "mimetype": "text/x-python",
   "name": "python",
   "nbconvert_exporter": "python",
   "pygments_lexer": "ipython3",
   "version": "3.8.3"
  }
 },
 "nbformat": 4,
 "nbformat_minor": 4
}
