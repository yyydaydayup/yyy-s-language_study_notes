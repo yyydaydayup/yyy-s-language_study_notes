{
 "cells": [
  {
   "cell_type": "code",
   "execution_count": 1,
   "metadata": {},
   "outputs": [],
   "source": [
    "import numpy as np"
   ]
  },
  {
   "cell_type": "code",
   "execution_count": null,
   "metadata": {},
   "outputs": [],
   "source": []
  },
  {
   "cell_type": "code",
   "execution_count": 2,
   "metadata": {},
   "outputs": [
    {
     "data": {
      "text/plain": [
       "array([[65, 98, 67],\n",
       "       [35, 85, 82],\n",
       "       [50, 60, 70],\n",
       "       [ 1, 24, 59],\n",
       "       [69, 77, 76],\n",
       "       [22,  6, 11],\n",
       "       [53, 57, 35],\n",
       "       [77, 14, 80],\n",
       "       [10, 30, 39],\n",
       "       [65, 46, 65]])"
      ]
     },
     "execution_count": 2,
     "metadata": {},
     "output_type": "execute_result"
    }
   ],
   "source": [
    "scores = np.random.randint(0,101,size=(10,3))\n",
    "scores"
   ]
  },
  {
   "cell_type": "code",
   "execution_count": 3,
   "metadata": {},
   "outputs": [
    {
     "data": {
      "text/plain": [
       "array([[12,  6, 26],\n",
       "       [24,  4, 38],\n",
       "       [ 8, 37, 26],\n",
       "       [24, 73, 39],\n",
       "       [16, 99, 23],\n",
       "       [38, 52, 46],\n",
       "       [92,  2, 29],\n",
       "       [84, 94,  9],\n",
       "       [79, 83, 99],\n",
       "       [39, 46, 21]])"
      ]
     },
     "execution_count": 3,
     "metadata": {},
     "output_type": "execute_result"
    }
   ],
   "source": [
    "load_score = np.loadtxt(\"语数英成绩.csv\",dtype=np.int, delimiter=\",\",skiprows=1)\n",
    "load_score"
   ]
  },
  {
   "cell_type": "markdown",
   "metadata": {},
   "source": [
    "练习.将数组a = np.random.rand(3,5)和b = np.random.rand(6,4)叠加在一起，其中a在b的上面，并且在b的第2列（下标从0开始）新增一列，用0来填充。"
   ]
  },
  {
   "cell_type": "code",
   "execution_count": 10,
   "metadata": {},
   "outputs": [
    {
     "data": {
      "text/plain": [
       "array([[0, 1, 2, 3, 4],\n",
       "       [5, 6, 7, 8, 9]])"
      ]
     },
     "execution_count": 10,
     "metadata": {},
     "output_type": "execute_result"
    }
   ],
   "source": [
    "a = np.arange(10).reshape(2,5)\n",
    "a"
   ]
  },
  {
   "cell_type": "code",
   "execution_count": 11,
   "metadata": {},
   "outputs": [
    {
     "data": {
      "text/plain": [
       "array([[100, 101, 102, 103],\n",
       "       [104, 105, 106, 107],\n",
       "       [108, 109, 110, 111]])"
      ]
     },
     "execution_count": 11,
     "metadata": {},
     "output_type": "execute_result"
    }
   ],
   "source": [
    "b = np.arange(100,112).reshape(3,4)\n",
    "b"
   ]
  },
  {
   "cell_type": "code",
   "execution_count": 12,
   "metadata": {},
   "outputs": [
    {
     "data": {
      "text/plain": [
       "array([[  0,   1,   2,   3,   4],\n",
       "       [  5,   6,   7,   8,   9],\n",
       "       [100, 101,   0, 102, 103],\n",
       "       [104, 105,   0, 106, 107],\n",
       "       [108, 109,   0, 110, 111]])"
      ]
     },
     "execution_count": 12,
     "metadata": {},
     "output_type": "execute_result"
    }
   ],
   "source": [
    "b_extend = np.hstack((b[:,0:2],np.full((3,1),0),b[:,2:]))\n",
    "np.vstack((a,b_extend))"
   ]
  }
 ],
 "metadata": {
  "kernelspec": {
   "display_name": "Python 3",
   "language": "python",
   "name": "python3"
  },
  "language_info": {
   "codemirror_mode": {
    "name": "ipython",
    "version": 3
   },
   "file_extension": ".py",
   "mimetype": "text/x-python",
   "name": "python",
   "nbconvert_exporter": "python",
   "pygments_lexer": "ipython3",
   "version": "3.8.3"
  }
 },
 "nbformat": 4,
 "nbformat_minor": 4
}
