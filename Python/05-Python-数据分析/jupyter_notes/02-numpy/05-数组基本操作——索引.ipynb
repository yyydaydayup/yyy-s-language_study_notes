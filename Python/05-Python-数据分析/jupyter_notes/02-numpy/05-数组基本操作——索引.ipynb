{
 "cells": [
  {
   "cell_type": "code",
   "execution_count": 1,
   "metadata": {},
   "outputs": [],
   "source": [
    "# 导入相关模块\n",
    "import numpy as np"
   ]
  },
  {
   "cell_type": "markdown",
   "metadata": {},
   "source": [
    "# 数组的索引"
   ]
  },
  {
   "cell_type": "markdown",
   "metadata": {},
   "source": [
    "## 01.花式索引"
   ]
  },
  {
   "cell_type": "markdown",
   "metadata": {},
   "source": [
    "### 1.1 一维数组"
   ]
  },
  {
   "cell_type": "code",
   "execution_count": 2,
   "metadata": {},
   "outputs": [
    {
     "name": "stdout",
     "output_type": "stream",
     "text": [
      "原始数组：a1 = [0 1 2 3 4 5 6 7 8 9]\n",
      "【例一】索引操作：a1[4] = 4\n",
      "【例二】切片操作：a1[4:6] = [4 5]\n",
      "【例三】使用步长：a1[::2] = [0 2 4 6 8]\n",
      "【例四】负数索引：a1[-1] = 9\n"
     ]
    }
   ],
   "source": [
    "a1 = np.arange(10)\n",
    "print(\"原始数组：a1 = %s\" % a1)\n",
    "# 1.索引操作\n",
    "print(\"【例一】索引操作：a1[4] = %s\" % a1[4] )\n",
    "# 2.切片操作\n",
    "print(\"【例二】切片操作：a1[4:6] = %s\" % a1[4:6])\n",
    "# 3.使用步长\n",
    "print(\"【例三】使用步长：a1[::2] = %s\" % a1[::2])\n",
    "# 4.使用负数来作为索引\n",
    "print(\"【例四】负数索引：a1[-1] = %s\" % a1[-1])"
   ]
  },
  {
   "cell_type": "markdown",
   "metadata": {},
   "source": [
    "### 1.2 多维数组"
   ]
  },
  {
   "cell_type": "markdown",
   "metadata": {},
   "source": [
    "多维数组也是通过中括号来进行索引和切片。\n",
    "在中括号中使用逗号进行分割，只需记住一点：**逗号前面是行，逗号后面是列**。"
   ]
  },
  {
   "cell_type": "code",
   "execution_count": 3,
   "metadata": {},
   "outputs": [
    {
     "name": "stdout",
     "output_type": "stream",
     "text": [
      "原始数组：\n",
      "[[4 9 5 5 2 5]\n",
      " [6 3 0 8 4 8]\n",
      " [8 6 9 5 2 9]\n",
      " [2 4 0 6 6 0]]\n",
      "【例一】获取第0行：a2[0] = [4 9 5 5 2 5]\n",
      "【例二】获取1-2行：a2[1:3] = \n",
      "[[6 3 0 8 4 8]\n",
      " [8 6 9 5 2 9]]\n",
      "【例三】获取第0、2、3行：a2[[0, 2, 3]]=\n",
      "[[4 9 5 5 2 5]\n",
      " [8 6 9 5 2 9]\n",
      " [2 4 0 6 6 0]]\n",
      "【例四】获取第2行第3列元素：a2[2,3] = 5\n",
      "【例五】获取第1行第4列和第4行第5列这两个离散的元素：a2[[1,2],[4,5]] = [4 9]\n",
      "【例六】获取第1行第4列到第4行第5列之间的所有元素：a2[1:2,4:5] = \n",
      "[[4 8]\n",
      " [2 9]]\n",
      "【例七】获取第二列：a2[:,2] = [5 0 9 0]\n",
      "【例八】获取第零列和第四列：a2[:,[0,4]] = \n",
      "[[4 2]\n",
      " [6 4]\n",
      " [8 2]\n",
      " [2 6]]\n"
     ]
    }
   ],
   "source": [
    "a2 = np.random.randint(0, 10, size=(4, 6))\n",
    "print(\"原始数组：\\n%s\" % a2)\n",
    "\n",
    "# 1.获取某一行\n",
    "print(\"【例一】获取第0行：a2[0] = %s\" % a2[0])\n",
    "\n",
    "# 2.获取连续的多行\n",
    "print(\"【例二】获取1-2行：a2[1:3] = \\n%s\" % a2[1:3])\n",
    "\n",
    "# 3.获取离散的多行\n",
    "print(\"【例三】获取第0、2、3行：a2[[0, 2, 3]]=\\n%s\" % a2[[0, 2, 3]])\n",
    "\n",
    "# 4.获取某一个元素\n",
    "print(\"【例四】获取第2行第3列元素：a2[2,3] = %s\" % a2[2, 3])\n",
    "\n",
    "# 5.获取离散的某2个元素\n",
    "print(\"【例五】获取第1行第4列和第4行第5列这两个离散的元素：a2[[1,2],[4,5]] = %s\" % a2[[1,2], [4,5]])\n",
    "\n",
    "# 6.连续截取数组的某一部分\n",
    "print(\"【例六】获取第1行第4列到第4行第5列之间的所有元素：a2[1:2,4:5] = \\n%s\" % a2[1:3, 4:6])\n",
    "\n",
    "# 7.获取某一列\n",
    "print(\"【例七】获取第二列：a2[:,2] = %s\" % a2[:,2])\n",
    "\n",
    "# 8.获取离散的两列\n",
    "print(\"【例八】获取第零列和第四列：a2[:,[0,4]] = \\n%s\" % a2[:, [0,4]])"
   ]
  },
  {
   "cell_type": "markdown",
   "metadata": {},
   "source": [
    "### 1.3 花式索引总结\n",
    "* 如果数组是一维的，那其索引和切片和Python列表\n",
    "* 如果是多维的，规则如下（这里以二维为例）：\n",
    "    * 逗号左边是行，逗号右边是列（若只有一个值，则表示行）\n",
    "    * 连续获取用切片，离散获取用中括号（比较例五和例六）"
   ]
  },
  {
   "cell_type": "markdown",
   "metadata": {},
   "source": [
    "## 02.布尔索引"
   ]
  },
  {
   "cell_type": "markdown",
   "metadata": {},
   "source": [
    "### 2.1 几个例子"
   ]
  },
  {
   "cell_type": "code",
   "execution_count": 4,
   "metadata": {},
   "outputs": [
    {
     "name": "stdout",
     "output_type": "stream",
     "text": [
      "[[ 0  1  2  3  4  5]\n",
      " [ 6  7  8  9 10 11]\n",
      " [12 13 14 15 16 17]\n",
      " [18 19 20 21 22 23]]\n"
     ]
    }
   ],
   "source": [
    "# 已知有以下数组\n",
    "a3 = np.arange(24).reshape((4,6))\n",
    "print(a3)"
   ]
  },
  {
   "cell_type": "markdown",
   "metadata": {},
   "source": [
    "**【例1】把`a3`数组中小于10的数全部取出来**"
   ]
  },
  {
   "cell_type": "code",
   "execution_count": 5,
   "metadata": {},
   "outputs": [
    {
     "data": {
      "text/plain": [
       "array([[ True,  True,  True,  True,  True,  True],\n",
       "       [ True,  True,  True,  True, False, False],\n",
       "       [False, False, False, False, False, False],\n",
       "       [False, False, False, False, False, False]])"
      ]
     },
     "execution_count": 5,
     "metadata": {},
     "output_type": "execute_result"
    }
   ],
   "source": [
    "# 第(1)步：先做关系运算，得到布尔数组\n",
    "a3 < 10"
   ]
  },
  {
   "cell_type": "code",
   "execution_count": 6,
   "metadata": {},
   "outputs": [
    {
     "data": {
      "text/plain": [
       "array([0, 1, 2, 3, 4, 5, 6, 7, 8, 9])"
      ]
     },
     "execution_count": 6,
     "metadata": {},
     "output_type": "execute_result"
    }
   ],
   "source": [
    "# 第(2)步：再通过布尔数组进行索引\n",
    "a3[a3<10]"
   ]
  },
  {
   "cell_type": "markdown",
   "metadata": {},
   "source": [
    "**【例2】把`a3`数组中大于5且小于10的数全部取出来**"
   ]
  },
  {
   "cell_type": "code",
   "execution_count": 7,
   "metadata": {},
   "outputs": [
    {
     "data": {
      "text/plain": [
       "array([6, 7, 8, 9])"
      ]
     },
     "execution_count": 7,
     "metadata": {},
     "output_type": "execute_result"
    }
   ],
   "source": [
    "a3[(a3>5) & (a3<10)]  # 一步到位"
   ]
  },
  {
   "cell_type": "markdown",
   "metadata": {},
   "source": [
    "### 2.2 布尔索引总结"
   ]
  },
  {
   "cell_type": "markdown",
   "metadata": {},
   "source": [
    "* 布尔索引是通过同形状的布尔矩阵进行元素提取，为True选中，为False则不选。\n",
    "* 提取条件可以有多个，此时需要逻辑运算符来连接，注意此时每个条件都要用圆括号括起来，否则会报错。"
   ]
  },
  {
   "cell_type": "markdown",
   "metadata": {},
   "source": [
    "## 03.值的替换"
   ]
  },
  {
   "cell_type": "markdown",
   "metadata": {},
   "source": [
    "### 3.1 花式索引替换"
   ]
  },
  {
   "cell_type": "code",
   "execution_count": 8,
   "metadata": {},
   "outputs": [
    {
     "data": {
      "text/plain": [
       "array([[8, 5, 6, 4, 2],\n",
       "       [1, 1, 5, 3, 0],\n",
       "       [9, 5, 8, 9, 1]])"
      ]
     },
     "execution_count": 8,
     "metadata": {},
     "output_type": "execute_result"
    }
   ],
   "source": [
    "a4 = np.random.randint(0, 10, size=(3, 5))\n",
    "a4"
   ]
  },
  {
   "cell_type": "code",
   "execution_count": 9,
   "metadata": {},
   "outputs": [
    {
     "data": {
      "text/plain": [
       "array([[8, 5, 6, 4, 2],\n",
       "       [0, 0, 0, 0, 0],\n",
       "       [9, 5, 8, 9, 1]])"
      ]
     },
     "execution_count": 9,
     "metadata": {},
     "output_type": "execute_result"
    }
   ],
   "source": [
    "# 1.替换成一个值\n",
    "a4[1] = 0\n",
    "a4"
   ]
  },
  {
   "cell_type": "code",
   "execution_count": 10,
   "metadata": {},
   "outputs": [
    {
     "data": {
      "text/plain": [
       "array([[8, 5, 6, 4, 2],\n",
       "       [1, 2, 3, 4, 5],\n",
       "       [9, 5, 8, 9, 1]])"
      ]
     },
     "execution_count": 10,
     "metadata": {},
     "output_type": "execute_result"
    }
   ],
   "source": [
    "# 2.用数组进行替换\n",
    "a4[1] = np.array([1, 2, 3, 4, 5])\n",
    "a4"
   ]
  },
  {
   "cell_type": "markdown",
   "metadata": {},
   "source": [
    "### 3.1 布尔索引替换"
   ]
  },
  {
   "cell_type": "code",
   "execution_count": 11,
   "metadata": {},
   "outputs": [
    {
     "data": {
      "text/plain": [
       "array([[8, 5, 6, 1, 1],\n",
       "       [1, 1, 1, 1, 5],\n",
       "       [9, 5, 8, 9, 1]])"
      ]
     },
     "execution_count": 11,
     "metadata": {},
     "output_type": "execute_result"
    }
   ],
   "source": [
    "a4[a4<5] = 1\n",
    "a4"
   ]
  },
  {
   "cell_type": "markdown",
   "metadata": {},
   "source": [
    "### 3.2 `where()`函数替换"
   ]
  },
  {
   "cell_type": "code",
   "execution_count": 12,
   "metadata": {},
   "outputs": [
    {
     "data": {
      "text/plain": [
       "(array([0, 0, 1, 1, 1, 1, 2], dtype=int64),\n",
       " array([3, 4, 0, 1, 2, 3, 4], dtype=int64))"
      ]
     },
     "execution_count": 12,
     "metadata": {},
     "output_type": "execute_result"
    }
   ],
   "source": [
    "pos = np.where(a4<5)\n",
    "pos"
   ]
  },
  {
   "cell_type": "code",
   "execution_count": 13,
   "metadata": {},
   "outputs": [
    {
     "data": {
      "text/plain": [
       "array([[1, 1, 1, 0, 0],\n",
       "       [0, 0, 0, 0, 1],\n",
       "       [1, 1, 1, 1, 0]])"
      ]
     },
     "execution_count": 13,
     "metadata": {},
     "output_type": "execute_result"
    }
   ],
   "source": [
    "# 将a4中所有小于5的替换成0，大于等于5的替换成1\n",
    "result = np.where(a4<5, 0, 1)\n",
    "result"
   ]
  }
 ],
 "metadata": {
  "kernelspec": {
   "display_name": "Python 3",
   "language": "python",
   "name": "python3"
  },
  "language_info": {
   "codemirror_mode": {
    "name": "ipython",
    "version": 3
   },
   "file_extension": ".py",
   "mimetype": "text/x-python",
   "name": "python",
   "nbconvert_exporter": "python",
   "pygments_lexer": "ipython3",
   "version": "3.8.3"
  }
 },
 "nbformat": 4,
 "nbformat_minor": 4
}
