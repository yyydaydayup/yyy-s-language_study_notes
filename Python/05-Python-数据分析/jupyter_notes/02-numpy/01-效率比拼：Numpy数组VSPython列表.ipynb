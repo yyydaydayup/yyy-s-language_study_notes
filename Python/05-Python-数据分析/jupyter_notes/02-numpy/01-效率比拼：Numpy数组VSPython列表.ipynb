{
 "cells": [
  {
   "cell_type": "code",
   "execution_count": 4,
   "metadata": {},
   "outputs": [
    {
     "name": "stdout",
     "output_type": "stream",
     "text": [
      "【列表耗时】0.43790149688720703秒\n",
      "【numpy耗时】0.01000070571899414秒\n"
     ]
    }
   ],
   "source": [
    "import numpy as np\n",
    "import time\n",
    "a = []\n",
    "t1 = time.time()\n",
    "for x in range(1000000):\n",
    "    a.append(x**2)\n",
    "t2 = time.time()\n",
    "print(\"【列表耗时】{seconds}秒\".format(seconds=t2-t1))\n",
    "\n",
    "t3 = time.time()\n",
    "b = np.arange(1000000)**2  # 数组可直接进行下标运算，直接将所有元素统一求平方，无需循环，一次到位\n",
    "t4 = time.time()\n",
    "print(\"【numpy耗时】{seconds}秒\".format(seconds=t4-t3))"
   ]
  },
  {
   "cell_type": "code",
   "execution_count": null,
   "metadata": {},
   "outputs": [],
   "source": []
  }
 ],
 "metadata": {
  "kernelspec": {
   "display_name": "Python 3",
   "language": "python",
   "name": "python3"
  },
  "language_info": {
   "codemirror_mode": {
    "name": "ipython",
    "version": 3
   },
   "file_extension": ".py",
   "mimetype": "text/x-python",
   "name": "python",
   "nbconvert_exporter": "python",
   "pygments_lexer": "ipython3",
   "version": "3.8.3"
  }
 },
 "nbformat": 4,
 "nbformat_minor": 4
}
